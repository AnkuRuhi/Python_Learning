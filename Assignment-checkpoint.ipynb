{
 "cells": [
  {
   "cell_type": "code",
   "execution_count": null,
   "metadata": {},
   "outputs": [],
   "source": [
    "l=[7,1,2,5,9,35,42,49,47,23,24]\n",
    "m=[]\n",
    "\n",
    "for i in l:\n",
    "    if i % 7==0 and i % 5!=0:\n",
    "        m.append(i)"
   ]
  },
  {
   "cell_type": "code",
   "execution_count": null,
   "metadata": {},
   "outputs": [],
   "source": [
    "m"
   ]
  },
  {
   "cell_type": "code",
   "execution_count": 23,
   "metadata": {
    "scrolled": true
   },
   "outputs": [
    {
     "name": "stdout",
     "output_type": "stream",
     "text": [
      "Enter firstname:ANKITA\n",
      "Enter lastname:BURNWAL\n"
     ]
    },
    {
     "data": {
      "text/plain": [
       "('ATIKNA', 'LAWNRUB')"
      ]
     },
     "execution_count": 23,
     "metadata": {},
     "output_type": "execute_result"
    }
   ],
   "source": [
    "firstname=input(\"Enter firstname:\")\n",
    "lastname=input(\"Enter lastname:\")\n",
    "m=[]\n",
    "\n",
    "def reverse(firstname,lastname):\n",
    "    firstname=firstname[::-1]\n",
    "    lastname=lastname[::-1]\n",
    "    return firstname,lastname\n",
    "\n",
    "reverse(firstname,lastname)\n",
    "\n"
   ]
  },
  {
   "cell_type": "code",
   "execution_count": 38,
   "metadata": {},
   "outputs": [
    {
     "ename": "SyntaxError",
     "evalue": "unexpected EOF while parsing (<ipython-input-38-aa0ecb396684>, line 2)",
     "output_type": "error",
     "traceback": [
      "\u001b[1;36m  File \u001b[1;32m\"<ipython-input-38-aa0ecb396684>\"\u001b[1;36m, line \u001b[1;32m2\u001b[0m\n\u001b[1;33m    print(list(reversed(s))\u001b[0m\n\u001b[1;37m                           ^\u001b[0m\n\u001b[1;31mSyntaxError\u001b[0m\u001b[1;31m:\u001b[0m unexpected EOF while parsing\n"
     ]
    }
   ],
   "source": [
    "s='ANKITA'\n",
    "print(list(reversed(s))\n"
   ]
  },
  {
   "cell_type": "code",
   "execution_count": 46,
   "metadata": {},
   "outputs": [
    {
     "name": "stdout",
     "output_type": "stream",
     "text": [
      "Enter firstname:ANKITA\n",
      "Enter lastname:BURNWAL\n",
      "['L', 'A', 'W', 'N', 'R', 'U', 'B', ' ', 'A', 'T', 'I', 'K', 'N', 'A']\n"
     ]
    }
   ],
   "source": [
    "firstname=input(\"Enter firstname:\")\n",
    "lastname=input(\"Enter lastname:\")\n",
    "name=firstname+\" \"+lastname\n",
    "print(list(reversed(name)))"
   ]
  },
  {
   "cell_type": "code",
   "execution_count": 1,
   "metadata": {},
   "outputs": [
    {
     "name": "stdout",
     "output_type": "stream",
     "text": [
      "Enter the radius ofthe circle:5\n",
      "523.3333333333334\n"
     ]
    }
   ],
   "source": [
    "radius=int(input(\"Enter the radius ofthe circle:\"))\n",
    "a=3.14\n",
    "b=radius*radius*radius\n",
    "v=4/3*a*b\n",
    "print(v)"
   ]
  },
  {
   "cell_type": "code",
   "execution_count": 3,
   "metadata": {},
   "outputs": [
    {
     "name": "stdout",
     "output_type": "stream",
     "text": [
      "Enter string:AcadGild\n"
     ]
    },
    {
     "data": {
      "text/plain": [
       "'dliGdacA'"
      ]
     },
     "execution_count": 3,
     "metadata": {},
     "output_type": "execute_result"
    }
   ],
   "source": [
    "string=input(\"Enter string:\")\n",
    "string[::-1]"
   ]
  },
  {
   "cell_type": "code",
   "execution_count": 2,
   "metadata": {},
   "outputs": [
    {
     "name": "stdout",
     "output_type": "stream",
     "text": [
      "Enter firstname:ankita\n",
      "Enter lastname:burnwal\n"
     ]
    },
    {
     "data": {
      "text/plain": [
       "'lawnrub atikna'"
      ]
     },
     "execution_count": 2,
     "metadata": {},
     "output_type": "execute_result"
    }
   ],
   "source": [
    " firstname=input(\"Enter firstname:\")\n",
    "lastname=input(\"Enter lastname:\")\n",
    "name=firstname+\" \"+lastname\n",
    "name[::-1]"
   ]
  },
  {
   "cell_type": "code",
   "execution_count": 37,
   "metadata": {},
   "outputs": [
    {
     "name": "stdout",
     "output_type": "stream",
     "text": [
      "Enter number of rows and columns-5\n",
      "* \n",
      "* * \n",
      "* * * \n",
      "* * * * \n",
      "* * * * * \n",
      "* * * * \n",
      "* * * \n",
      "* * \n",
      "* \n"
     ]
    }
   ],
   "source": [
    "num=int(input(\"Enter number of rows and columns-\"))\n",
    "\n",
    "for i in range(0,num):\n",
    "    for j in range(0,i+1):\n",
    "        print(\"*\",end=\" \")\n",
    "    print()\n",
    "for i in range(num-1,0,-1): \n",
    "    for j in range(i):\n",
    "        print(\"*\",end=\" \")\n",
    "    print()\n",
    "    \n",
    "       "
   ]
  },
  {
   "cell_type": "code",
   "execution_count": 47,
   "metadata": {},
   "outputs": [
    {
     "name": "stdout",
     "output_type": "stream",
     "text": [
      "Enter number of rows and columns-5\n",
      "\n",
      "*   \n",
      "*   *   *   \n",
      "*   *   *   *   *   \n",
      "*   *   *   *   *   *   *   \n"
     ]
    }
   ],
   "source": [
    "num=int(input(\"Enter number of rows and columns-\"))\n",
    "\n",
    "for i in range(0,num):\n",
    "    for j in range(0,2*i-1):\n",
    "        print(\"*\", \" \",end=\" \")\n",
    "    print()  "
   ]
  },
  {
   "cell_type": "code",
   "execution_count": null,
   "metadata": {},
   "outputs": [],
   "source": []
  },
  {
   "cell_type": "code",
   "execution_count": null,
   "metadata": {},
   "outputs": [],
   "source": []
  }
 ],
 "metadata": {
  "kernelspec": {
   "display_name": "Python 3",
   "language": "python",
   "name": "python3"
  },
  "language_info": {
   "codemirror_mode": {
    "name": "ipython",
    "version": 3
   },
   "file_extension": ".py",
   "mimetype": "text/x-python",
   "name": "python",
   "nbconvert_exporter": "python",
   "pygments_lexer": "ipython3",
   "version": "3.7.6"
  }
 },
 "nbformat": 4,
 "nbformat_minor": 4
}
